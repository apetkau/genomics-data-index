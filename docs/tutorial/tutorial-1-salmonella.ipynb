{
 "cells": [
  {
   "cell_type": "markdown",
   "id": "f06f558b-d98a-4425-b990-46713f6ed53e",
   "metadata": {},
   "source": [
    "# Tutorial 1: Salmonella dataset\n",
    "\n",
    "## Background\n",
    "\n",
    "This tutorial consists of an index constructed from a *Salmonella enterica* dataset previously published in (https://doi.org/10.1128/jcm.02200-15). To prepare the data, the genomes were downloaded, downsampled (to min 30x coverage) to reduce data size and run through [snippy](https://github.com/tseemann/snippy) to identify SNVs. These files were then loaded into a genomics index using the `gdi load snippy` command.\n",
    "\n",
    "## Getting data\n",
    "\n",
    "Let's first download the data for this tutorial. To do this please run the below commands:\n",
    "\n",
    "*Note: In a Jupyter Python notebook, prepending a command with `!` runs the command in a shell instead of the Python interpreter (e.g., `!unzip` runs the command `unzip`).*"
   ]
  },
  {
   "cell_type": "code",
   "execution_count": 1,
   "id": "73c22f2e-0f52-469b-8119-e529f8b2ddff",
   "metadata": {},
   "outputs": [
    {
     "name": "stdout",
     "output_type": "stream",
     "text": [
      "Archive:  salmonella-project.zip\n",
      "out.aln\t\t    salmonella-project.zip\t   tutorial-1-salmonella.ipynb\n",
      "salmonella-project  salmonella-project.zip.sha256\n"
     ]
    }
   ],
   "source": [
    "#! wget ...\n",
    "!unzip -n salmonella-project.zip\n",
    "!ls"
   ]
  },
  {
   "cell_type": "markdown",
   "id": "a315eb4d-ad8f-465b-b4b5-9c9035fbf663",
   "metadata": {},
   "source": [
    "Great. Now that we've got some data (in the `salmonella-project/` directory), let's explore the command-line interface to access this data.\n",
    "\n",
    "## Command-line interface (`gdi`)\n",
    "\n",
    "### List samples\n",
    "\n",
    "The below command lists the samples loaded in this index. Note that instead of passing the project with `--project-dir` you can change to the project directory and `gdi` will figure out which project you're in."
   ]
  },
  {
   "cell_type": "code",
   "execution_count": 2,
   "id": "0f2e16fb-e012-480c-8978-10788947c1ce",
   "metadata": {},
   "outputs": [
    {
     "name": "stdout",
     "output_type": "stream",
     "text": [
      "SH09-29\n",
      "SH10-015\n",
      "SH12-001\n",
      "SH13-001\n",
      "SH14-003\n"
     ]
    }
   ],
   "source": [
    "!gdi --project-dir salmonella-project list samples | head -n 5"
   ]
  },
  {
   "cell_type": "markdown",
   "id": "146a37d6-9924-4ec2-ba42-b67ca8840514",
   "metadata": {},
   "source": [
    "### List reference genomes\n",
    "\n",
    "This lists all the loaded reference genomes in this genomics index. This can be useful for commands later which require you to pass the name of the reference genome."
   ]
  },
  {
   "cell_type": "code",
   "execution_count": 3,
   "id": "613518c9-86a8-4af3-98c9-fdfb777751cf",
   "metadata": {},
   "outputs": [
    {
     "name": "stdout",
     "output_type": "stream",
     "text": [
      "S_HeidelbergSL476\n"
     ]
    }
   ],
   "source": [
    "!gdi --project-dir salmonella-project list genomes"
   ]
  },
  {
   "cell_type": "markdown",
   "id": "b62f3325-abb6-46ef-9de5-8a097f4c1a9b",
   "metadata": {},
   "source": [
    "### Query for a particular mutation\n",
    "\n",
    "This searches for a particular mutation (in this case a deletion of a `CG` at position 2865334 and an insertion of a `G`). If you are familiar with the VCF format, this is given in terms of `CHROM:POS:REF:ALT` format."
   ]
  },
  {
   "cell_type": "code",
   "execution_count": 4,
   "id": "779c052b-3ec6-4072-a59c-bbb49096136b",
   "metadata": {},
   "outputs": [
    {
     "name": "stdout",
     "output_type": "stream",
     "text": [
      "Type      Feature                                     Sample Name  Sample ID  Status\n",
      "mutation  gi|194447306|ref|NC_011083.1|:2865334:CG:C  SH12-013     9          Present\n"
     ]
    }
   ],
   "source": [
    "!gdi --project-dir salmonella-project query mutation 'gi|194447306|ref|NC_011083.1|:2865334:CG:C' | column -s$'\\t' -t"
   ]
  },
  {
   "cell_type": "markdown",
   "id": "df9caa41-8842-46f1-ad05-f8089e1e21cb",
   "metadata": {},
   "source": [
    "## Build an alignment\n",
    "\n",
    "To build an alignment for use in further phylogenetics software you can do the following."
   ]
  },
  {
   "cell_type": "code",
   "execution_count": 5,
   "id": "0beaf381-8b7f-44d4-abb5-1158c5d47d8b",
   "metadata": {},
   "outputs": [
    {
     "name": "stdout",
     "output_type": "stream",
     "text": [
      "Wrote alignment to [out.aln]\n"
     ]
    }
   ],
   "source": [
    "!gdi --project-dir salmonella-project build alignment --reference-name S_HeidelbergSL476 --align-type full --output-file out.aln"
   ]
  },
  {
   "cell_type": "code",
   "execution_count": 6,
   "id": "2d8c2412-489a-4077-9399-11bd16142c09",
   "metadata": {},
   "outputs": [
    {
     "name": "stdout",
     "output_type": "stream",
     "text": [
      ">SH08-001 generated automatically\n",
      "AGAGANTACGTNTGGTTGCAAGAGATCATAACAGGGGGAATTAGTTGAAAATAAATATAT\n"
     ]
    }
   ],
   "source": [
    "!head -n 2 out.aln"
   ]
  },
  {
   "cell_type": "markdown",
   "id": "2c53b72d-450c-43b8-a083-b3b7fae8a311",
   "metadata": {},
   "source": [
    "This will produce an alignment with length equal to the reference genome, masking any missing data or gaps with `N`, and concatenating individual sequences (contigs) in the alignment together to construct a single, whole-genome alignment.\n",
    "\n",
    "You can pass in specific samples to include with `--sample`."
   ]
  },
  {
   "cell_type": "markdown",
   "id": "51c56e91-3f23-49fc-9c08-8d8966874332",
   "metadata": {},
   "source": [
    "# Python API (Genomics Data Index API)\n",
    "\n",
    "Now let's move on to the Python interface for loading, and querying data in this index. This is a much more powerful (and flexible) way to work with your data which attempts to provide seamless data flow between this index and Python [pandas](https://pandas.pydata.org/).\n",
    "\n",
    "We first start out by connecting to our project through `GenomicsDataIndex`."
   ]
  },
  {
   "cell_type": "code",
   "execution_count": 7,
   "id": "cd88d725-228c-490a-922d-4faaaabf86a8",
   "metadata": {},
   "outputs": [
    {
     "data": {
      "text/plain": [
       "<GenomicsDataIndex(samples=59)>"
      ]
     },
     "execution_count": 7,
     "metadata": {},
     "output_type": "execute_result"
    }
   ],
   "source": [
    "import genomics_data_index.api as gdi\n",
    "\n",
    "db = gdi.GenomicsDataIndex.connect('salmonella-project')\n",
    "db"
   ]
  },
  {
   "cell_type": "markdown",
   "id": "57f9fb8d-4d89-4648-ad9a-da2d38deeaf2",
   "metadata": {},
   "source": [
    "Great. We're connected. The `samples=59` tells us how many samples are in this database.\n",
    "\n",
    "You can run `db.sample_names()` or `db.reference_names()` to list the samples and reference genomes in this database."
   ]
  },
  {
   "cell_type": "code",
   "execution_count": 8,
   "id": "b89b0b35-a805-4657-99b6-a2a230813ef4",
   "metadata": {},
   "outputs": [
    {
     "data": {
      "text/plain": [
       "['SH09-29', 'SH10-015', 'SH12-001', 'SH13-001', 'SH14-003']"
      ]
     },
     "execution_count": 8,
     "metadata": {},
     "output_type": "execute_result"
    }
   ],
   "source": [
    "db.sample_names()[0:5]"
   ]
  },
  {
   "cell_type": "code",
   "execution_count": 9,
   "id": "2f7dc469-5a7c-4e2f-b132-a5550b169abc",
   "metadata": {},
   "outputs": [
    {
     "data": {
      "text/plain": [
       "['S_HeidelbergSL476']"
      ]
     },
     "execution_count": 9,
     "metadata": {},
     "output_type": "execute_result"
    }
   ],
   "source": [
    "db.reference_names()"
   ]
  },
  {
   "cell_type": "markdown",
   "id": "ef44c72c-09e1-4bf4-adfa-d3e9f6867e6a",
   "metadata": {},
   "source": [
    "## List all features (mutations)\n",
    "\n",
    "To list a summary of all indexed mutations we can do:"
   ]
  },
  {
   "cell_type": "code",
   "execution_count": 10,
   "id": "4a4de449-1292-472f-9b42-b3b348cd9bb2",
   "metadata": {},
   "outputs": [
    {
     "data": {
      "text/html": [
       "<div>\n",
       "<style scoped>\n",
       "    .dataframe tbody tr th:only-of-type {\n",
       "        vertical-align: middle;\n",
       "    }\n",
       "\n",
       "    .dataframe tbody tr th {\n",
       "        vertical-align: top;\n",
       "    }\n",
       "\n",
       "    .dataframe thead th {\n",
       "        text-align: right;\n",
       "    }\n",
       "</style>\n",
       "<table border=\"1\" class=\"dataframe\">\n",
       "  <thead>\n",
       "    <tr style=\"text-align: right;\">\n",
       "      <th></th>\n",
       "      <th>Sequence</th>\n",
       "      <th>Position</th>\n",
       "      <th>Deletion</th>\n",
       "      <th>Insertion</th>\n",
       "      <th>Count</th>\n",
       "    </tr>\n",
       "    <tr>\n",
       "      <th>Mutation</th>\n",
       "      <th></th>\n",
       "      <th></th>\n",
       "      <th></th>\n",
       "      <th></th>\n",
       "      <th></th>\n",
       "    </tr>\n",
       "  </thead>\n",
       "  <tbody>\n",
       "    <tr>\n",
       "      <th>gi|194447306|ref|NC_011083.1|:34780:A:G</th>\n",
       "      <td>gi|194447306|ref|NC_011083.1|</td>\n",
       "      <td>34780</td>\n",
       "      <td>A</td>\n",
       "      <td>G</td>\n",
       "      <td>3</td>\n",
       "    </tr>\n",
       "    <tr>\n",
       "      <th>gi|194447306|ref|NC_011083.1|:43651:G:T</th>\n",
       "      <td>gi|194447306|ref|NC_011083.1|</td>\n",
       "      <td>43651</td>\n",
       "      <td>G</td>\n",
       "      <td>T</td>\n",
       "      <td>1</td>\n",
       "    </tr>\n",
       "    <tr>\n",
       "      <th>gi|194447306|ref|NC_011083.1|:58804:T:A</th>\n",
       "      <td>gi|194447306|ref|NC_011083.1|</td>\n",
       "      <td>58804</td>\n",
       "      <td>T</td>\n",
       "      <td>A</td>\n",
       "      <td>10</td>\n",
       "    </tr>\n",
       "    <tr>\n",
       "      <th>gi|194447306|ref|NC_011083.1|:63393:C:A</th>\n",
       "      <td>gi|194447306|ref|NC_011083.1|</td>\n",
       "      <td>63393</td>\n",
       "      <td>C</td>\n",
       "      <td>A</td>\n",
       "      <td>13</td>\n",
       "    </tr>\n",
       "    <tr>\n",
       "      <th>gi|194447306|ref|NC_011083.1|:70519:T:TG</th>\n",
       "      <td>gi|194447306|ref|NC_011083.1|</td>\n",
       "      <td>70519</td>\n",
       "      <td>T</td>\n",
       "      <td>TG</td>\n",
       "      <td>6</td>\n",
       "    </tr>\n",
       "    <tr>\n",
       "      <th>...</th>\n",
       "      <td>...</td>\n",
       "      <td>...</td>\n",
       "      <td>...</td>\n",
       "      <td>...</td>\n",
       "      <td>...</td>\n",
       "    </tr>\n",
       "    <tr>\n",
       "      <th>gi|194447306|ref|NC_011083.1|:4860641:G:A</th>\n",
       "      <td>gi|194447306|ref|NC_011083.1|</td>\n",
       "      <td>4860641</td>\n",
       "      <td>G</td>\n",
       "      <td>A</td>\n",
       "      <td>57</td>\n",
       "    </tr>\n",
       "    <tr>\n",
       "      <th>gi|194447306|ref|NC_011083.1|:4876176:A:G</th>\n",
       "      <td>gi|194447306|ref|NC_011083.1|</td>\n",
       "      <td>4876176</td>\n",
       "      <td>A</td>\n",
       "      <td>G</td>\n",
       "      <td>58</td>\n",
       "    </tr>\n",
       "    <tr>\n",
       "      <th>gi|194447306|ref|NC_011083.1|:4882099:C:T</th>\n",
       "      <td>gi|194447306|ref|NC_011083.1|</td>\n",
       "      <td>4882099</td>\n",
       "      <td>C</td>\n",
       "      <td>T</td>\n",
       "      <td>57</td>\n",
       "    </tr>\n",
       "    <tr>\n",
       "      <th>gi|194447306|ref|NC_011083.1|:4884909:T:C</th>\n",
       "      <td>gi|194447306|ref|NC_011083.1|</td>\n",
       "      <td>4884909</td>\n",
       "      <td>T</td>\n",
       "      <td>C</td>\n",
       "      <td>59</td>\n",
       "    </tr>\n",
       "    <tr>\n",
       "      <th>gi|194447306|ref|NC_011083.1|:4888140:G:T</th>\n",
       "      <td>gi|194447306|ref|NC_011083.1|</td>\n",
       "      <td>4888140</td>\n",
       "      <td>G</td>\n",
       "      <td>T</td>\n",
       "      <td>59</td>\n",
       "    </tr>\n",
       "  </tbody>\n",
       "</table>\n",
       "<p>402 rows × 5 columns</p>\n",
       "</div>"
      ],
      "text/plain": [
       "                                                                Sequence  \\\n",
       "Mutation                                                                   \n",
       "gi|194447306|ref|NC_011083.1|:34780:A:G    gi|194447306|ref|NC_011083.1|   \n",
       "gi|194447306|ref|NC_011083.1|:43651:G:T    gi|194447306|ref|NC_011083.1|   \n",
       "gi|194447306|ref|NC_011083.1|:58804:T:A    gi|194447306|ref|NC_011083.1|   \n",
       "gi|194447306|ref|NC_011083.1|:63393:C:A    gi|194447306|ref|NC_011083.1|   \n",
       "gi|194447306|ref|NC_011083.1|:70519:T:TG   gi|194447306|ref|NC_011083.1|   \n",
       "...                                                                  ...   \n",
       "gi|194447306|ref|NC_011083.1|:4860641:G:A  gi|194447306|ref|NC_011083.1|   \n",
       "gi|194447306|ref|NC_011083.1|:4876176:A:G  gi|194447306|ref|NC_011083.1|   \n",
       "gi|194447306|ref|NC_011083.1|:4882099:C:T  gi|194447306|ref|NC_011083.1|   \n",
       "gi|194447306|ref|NC_011083.1|:4884909:T:C  gi|194447306|ref|NC_011083.1|   \n",
       "gi|194447306|ref|NC_011083.1|:4888140:G:T  gi|194447306|ref|NC_011083.1|   \n",
       "\n",
       "                                           Position Deletion Insertion  Count  \n",
       "Mutation                                                                       \n",
       "gi|194447306|ref|NC_011083.1|:34780:A:G       34780        A         G      3  \n",
       "gi|194447306|ref|NC_011083.1|:43651:G:T       43651        G         T      1  \n",
       "gi|194447306|ref|NC_011083.1|:58804:T:A       58804        T         A     10  \n",
       "gi|194447306|ref|NC_011083.1|:63393:C:A       63393        C         A     13  \n",
       "gi|194447306|ref|NC_011083.1|:70519:T:TG      70519        T        TG      6  \n",
       "...                                             ...      ...       ...    ...  \n",
       "gi|194447306|ref|NC_011083.1|:4860641:G:A   4860641        G         A     57  \n",
       "gi|194447306|ref|NC_011083.1|:4876176:A:G   4876176        A         G     58  \n",
       "gi|194447306|ref|NC_011083.1|:4882099:C:T   4882099        C         T     57  \n",
       "gi|194447306|ref|NC_011083.1|:4884909:T:C   4884909        T         C     59  \n",
       "gi|194447306|ref|NC_011083.1|:4888140:G:T   4888140        G         T     59  \n",
       "\n",
       "[402 rows x 5 columns]"
      ]
     },
     "execution_count": 10,
     "metadata": {},
     "output_type": "execute_result"
    }
   ],
   "source": [
    "db.mutations_summary(reference_genome='S_HeidelbergSL476')"
   ]
  },
  {
   "cell_type": "markdown",
   "id": "7da3832e-266c-42f4-8def-14de4ae88406",
   "metadata": {},
   "source": [
    "This gives us back a DataFrame summarizing the mutations.\n"
   ]
  },
  {
   "cell_type": "markdown",
   "id": "6b5cfae9-be1c-4151-87e4-889faa2896f4",
   "metadata": {},
   "source": [
    "## Search for a particular mutation (`hasa()`)\n",
    "\n",
    "We can search for genomic samples containing particular mutation by starting a query and using the `hasa()` method."
   ]
  },
  {
   "cell_type": "code",
   "execution_count": 12,
   "id": "efb66090-6244-4b1a-a3ad-8b25f39429a8",
   "metadata": {},
   "outputs": [
    {
     "data": {
      "text/plain": [
       "<SamplesQueryIndex[22% (13/59) samples]>"
      ]
     },
     "execution_count": 12,
     "metadata": {},
     "output_type": "execute_result"
    }
   ],
   "source": [
    "q = db.samples_query().hasa('gi|194447306|ref|NC_011083.1|:63393:C:A', kind='mutation')\n",
    "q"
   ]
  },
  {
   "cell_type": "markdown",
   "id": "65f49754-5759-4cae-9683-3ad2539f84af",
   "metadata": {},
   "source": [
    "The `hasa()` method can be read as \"select samples that **have a** this particular mutation\". The selected samples is printed above (13/59 have this particular mutation).\n",
    "\n",
    "*Note: the default **kind** for `hasa()` is `mutation` so you can leave out `kind='mutation'` if you wish.*"
   ]
  },
  {
   "cell_type": "code",
   "execution_count": 13,
   "id": "3bfa8957-a97a-4965-8a6b-07c742c05999",
   "metadata": {},
   "outputs": [
    {
     "data": {
      "text/plain": [
       "<SamplesQueryIndex[22% (13/59) samples]>"
      ]
     },
     "execution_count": 13,
     "metadata": {},
     "output_type": "execute_result"
    }
   ],
   "source": [
    "q = db.samples_query().hasa('gi|194447306|ref|NC_011083.1|:63393:C:A')\n",
    "q"
   ]
  },
  {
   "cell_type": "markdown",
   "id": "ae4debd6-1f39-404d-8df9-9e0b8cd30164",
   "metadata": {},
   "source": [
    "Once we have a query/selection of samples the specific samples can be shown with the `toframe()` method:"
   ]
  },
  {
   "cell_type": "code",
   "execution_count": 15,
   "id": "19ee8645-9942-4e6a-8cd8-7d897c16b9d2",
   "metadata": {},
   "outputs": [
    {
     "data": {
      "text/html": [
       "<div>\n",
       "<style scoped>\n",
       "    .dataframe tbody tr th:only-of-type {\n",
       "        vertical-align: middle;\n",
       "    }\n",
       "\n",
       "    .dataframe tbody tr th {\n",
       "        vertical-align: top;\n",
       "    }\n",
       "\n",
       "    .dataframe thead th {\n",
       "        text-align: right;\n",
       "    }\n",
       "</style>\n",
       "<table border=\"1\" class=\"dataframe\">\n",
       "  <thead>\n",
       "    <tr style=\"text-align: right;\">\n",
       "      <th></th>\n",
       "      <th>Query</th>\n",
       "      <th>Sample Name</th>\n",
       "      <th>Sample ID</th>\n",
       "      <th>Status</th>\n",
       "    </tr>\n",
       "  </thead>\n",
       "  <tbody>\n",
       "    <tr>\n",
       "      <th>0</th>\n",
       "      <td>gi|194447306|ref|NC_011083.1|:63393:C:A</td>\n",
       "      <td>SH12-001</td>\n",
       "      <td>3</td>\n",
       "      <td>Present</td>\n",
       "    </tr>\n",
       "    <tr>\n",
       "      <th>1</th>\n",
       "      <td>gi|194447306|ref|NC_011083.1|:63393:C:A</td>\n",
       "      <td>SH12-003</td>\n",
       "      <td>13</td>\n",
       "      <td>Present</td>\n",
       "    </tr>\n",
       "    <tr>\n",
       "      <th>2</th>\n",
       "      <td>gi|194447306|ref|NC_011083.1|:63393:C:A</td>\n",
       "      <td>SH11-001</td>\n",
       "      <td>15</td>\n",
       "      <td>Present</td>\n",
       "    </tr>\n",
       "    <tr>\n",
       "      <th>3</th>\n",
       "      <td>gi|194447306|ref|NC_011083.1|:63393:C:A</td>\n",
       "      <td>SH12-002</td>\n",
       "      <td>18</td>\n",
       "      <td>Present</td>\n",
       "    </tr>\n",
       "    <tr>\n",
       "      <th>4</th>\n",
       "      <td>gi|194447306|ref|NC_011083.1|:63393:C:A</td>\n",
       "      <td>SH12-004</td>\n",
       "      <td>24</td>\n",
       "      <td>Present</td>\n",
       "    </tr>\n",
       "    <tr>\n",
       "      <th>5</th>\n",
       "      <td>gi|194447306|ref|NC_011083.1|:63393:C:A</td>\n",
       "      <td>SH12-008</td>\n",
       "      <td>37</td>\n",
       "      <td>Present</td>\n",
       "    </tr>\n",
       "    <tr>\n",
       "      <th>6</th>\n",
       "      <td>gi|194447306|ref|NC_011083.1|:63393:C:A</td>\n",
       "      <td>SH12-011</td>\n",
       "      <td>38</td>\n",
       "      <td>Present</td>\n",
       "    </tr>\n",
       "    <tr>\n",
       "      <th>7</th>\n",
       "      <td>gi|194447306|ref|NC_011083.1|:63393:C:A</td>\n",
       "      <td>SH12-005</td>\n",
       "      <td>40</td>\n",
       "      <td>Present</td>\n",
       "    </tr>\n",
       "    <tr>\n",
       "      <th>8</th>\n",
       "      <td>gi|194447306|ref|NC_011083.1|:63393:C:A</td>\n",
       "      <td>SH12-010</td>\n",
       "      <td>41</td>\n",
       "      <td>Present</td>\n",
       "    </tr>\n",
       "    <tr>\n",
       "      <th>9</th>\n",
       "      <td>gi|194447306|ref|NC_011083.1|:63393:C:A</td>\n",
       "      <td>SH12-006</td>\n",
       "      <td>45</td>\n",
       "      <td>Present</td>\n",
       "    </tr>\n",
       "    <tr>\n",
       "      <th>10</th>\n",
       "      <td>gi|194447306|ref|NC_011083.1|:63393:C:A</td>\n",
       "      <td>SH12-009</td>\n",
       "      <td>50</td>\n",
       "      <td>Present</td>\n",
       "    </tr>\n",
       "    <tr>\n",
       "      <th>11</th>\n",
       "      <td>gi|194447306|ref|NC_011083.1|:63393:C:A</td>\n",
       "      <td>SH12-007</td>\n",
       "      <td>55</td>\n",
       "      <td>Present</td>\n",
       "    </tr>\n",
       "    <tr>\n",
       "      <th>12</th>\n",
       "      <td>gi|194447306|ref|NC_011083.1|:63393:C:A</td>\n",
       "      <td>SH10-001</td>\n",
       "      <td>59</td>\n",
       "      <td>Present</td>\n",
       "    </tr>\n",
       "  </tbody>\n",
       "</table>\n",
       "</div>"
      ],
      "text/plain": [
       "                                      Query Sample Name  Sample ID   Status\n",
       "0   gi|194447306|ref|NC_011083.1|:63393:C:A    SH12-001          3  Present\n",
       "1   gi|194447306|ref|NC_011083.1|:63393:C:A    SH12-003         13  Present\n",
       "2   gi|194447306|ref|NC_011083.1|:63393:C:A    SH11-001         15  Present\n",
       "3   gi|194447306|ref|NC_011083.1|:63393:C:A    SH12-002         18  Present\n",
       "4   gi|194447306|ref|NC_011083.1|:63393:C:A    SH12-004         24  Present\n",
       "5   gi|194447306|ref|NC_011083.1|:63393:C:A    SH12-008         37  Present\n",
       "6   gi|194447306|ref|NC_011083.1|:63393:C:A    SH12-011         38  Present\n",
       "7   gi|194447306|ref|NC_011083.1|:63393:C:A    SH12-005         40  Present\n",
       "8   gi|194447306|ref|NC_011083.1|:63393:C:A    SH12-010         41  Present\n",
       "9   gi|194447306|ref|NC_011083.1|:63393:C:A    SH12-006         45  Present\n",
       "10  gi|194447306|ref|NC_011083.1|:63393:C:A    SH12-009         50  Present\n",
       "11  gi|194447306|ref|NC_011083.1|:63393:C:A    SH12-007         55  Present\n",
       "12  gi|194447306|ref|NC_011083.1|:63393:C:A    SH10-001         59  Present"
      ]
     },
     "execution_count": 15,
     "metadata": {},
     "output_type": "execute_result"
    }
   ],
   "source": [
    "q.toframe()"
   ]
  },
  {
   "cell_type": "markdown",
   "id": "34b55061-e318-4774-a51e-77f9e423789c",
   "metadata": {},
   "source": [
    "Or you can use `summary()`"
   ]
  },
  {
   "cell_type": "code",
   "execution_count": 16,
   "id": "2fd551c5-4a41-4af3-82cb-1bd45014e3be",
   "metadata": {},
   "outputs": [
    {
     "data": {
      "text/html": [
       "<div>\n",
       "<style scoped>\n",
       "    .dataframe tbody tr th:only-of-type {\n",
       "        vertical-align: middle;\n",
       "    }\n",
       "\n",
       "    .dataframe tbody tr th {\n",
       "        vertical-align: top;\n",
       "    }\n",
       "\n",
       "    .dataframe thead th {\n",
       "        text-align: right;\n",
       "    }\n",
       "</style>\n",
       "<table border=\"1\" class=\"dataframe\">\n",
       "  <thead>\n",
       "    <tr style=\"text-align: right;\">\n",
       "      <th></th>\n",
       "      <th>Query</th>\n",
       "      <th>Present</th>\n",
       "      <th>Absent</th>\n",
       "      <th>Unknown</th>\n",
       "      <th>Total</th>\n",
       "      <th>% Present</th>\n",
       "      <th>% Absent</th>\n",
       "      <th>% Unknown</th>\n",
       "    </tr>\n",
       "  </thead>\n",
       "  <tbody>\n",
       "    <tr>\n",
       "      <th>0</th>\n",
       "      <td>gi|194447306|ref|NC_011083.1|:63393:C:A</td>\n",
       "      <td>13</td>\n",
       "      <td>46</td>\n",
       "      <td>&lt;NA&gt;</td>\n",
       "      <td>59</td>\n",
       "      <td>22.033898</td>\n",
       "      <td>77.966102</td>\n",
       "      <td>&lt;NA&gt;</td>\n",
       "    </tr>\n",
       "  </tbody>\n",
       "</table>\n",
       "</div>"
      ],
      "text/plain": [
       "                                     Query  Present  Absent Unknown  Total  \\\n",
       "0  gi|194447306|ref|NC_011083.1|:63393:C:A       13      46    <NA>     59   \n",
       "\n",
       "   % Present   % Absent % Unknown  \n",
       "0  22.033898  77.966102      <NA>  "
      ]
     },
     "execution_count": 16,
     "metadata": {},
     "output_type": "execute_result"
    }
   ],
   "source": [
    "q.summary()"
   ]
  },
  {
   "cell_type": "markdown",
   "id": "29f0712c-75ae-4948-9633-b7e9209d09b7",
   "metadata": {},
   "source": [
    "Or you can use `tolist()`"
   ]
  },
  {
   "cell_type": "code",
   "execution_count": 17,
   "id": "592958d5-2a3c-4ccd-80ff-5e32e71b9cea",
   "metadata": {},
   "outputs": [
    {
     "data": {
      "text/plain": [
       "['SH12-001',\n",
       " 'SH12-003',\n",
       " 'SH11-001',\n",
       " 'SH12-002',\n",
       " 'SH12-004',\n",
       " 'SH12-008',\n",
       " 'SH12-011',\n",
       " 'SH12-005',\n",
       " 'SH12-010',\n",
       " 'SH12-006',\n",
       " 'SH12-009',\n",
       " 'SH12-007',\n",
       " 'SH10-001']"
      ]
     },
     "execution_count": 17,
     "metadata": {},
     "output_type": "execute_result"
    }
   ],
   "source": [
    "q.tolist()"
   ]
  },
  {
   "cell_type": "markdown",
   "id": "25ee7693-a697-49a0-b48c-59dbc15bf112",
   "metadata": {},
   "source": [
    "## Chaining queries\n",
    "\n",
    "Queries can be chained together to select samples that match every criteria given in the `has()` method."
   ]
  },
  {
   "cell_type": "code",
   "execution_count": 18,
   "id": "87694b6c-9692-49e0-b1db-b1afe67d01c6",
   "metadata": {},
   "outputs": [
    {
     "data": {
      "text/plain": [
       "<SamplesQueryIndex[22% (13/59) samples]>"
      ]
     },
     "execution_count": 18,
     "metadata": {},
     "output_type": "execute_result"
    }
   ],
   "source": [
    "q = db.samples_query() \\\n",
    "    .hasa('gi|194447306|ref|NC_011083.1|:63393:C:A') \\\n",
    "    .hasa('gi|194447306|ref|NC_011083.1|:4876176:A:G')\n",
    "q"
   ]
  },
  {
   "cell_type": "markdown",
   "id": "7797000c-cf17-4dcd-ad8b-1051439fd570",
   "metadata": {},
   "source": [
    "This can be read as \"select all samples that **have a** 63393 C to A mutation **AND** select all samples that **have a** 4876176 A to G mutation\"."
   ]
  },
  {
   "cell_type": "markdown",
   "id": "f0ed8d72-56c8-462d-910e-3f86d69b8c0c",
   "metadata": {},
   "source": [
    "## Searching for a particular sample (`isa()` and `isin()`)\n",
    "\n",
    "The `isa()` and `isin()` methods let us search for particular samples by name. The difference between the two is that:\n",
    "\n",
    "1. `isa()` is meant to be read \"select samples that **are** (**is a**) type matching the expression.\n",
    "2. `isin()` is meant to be read \"select samples that are **in** a set defined by the passed criteria.\n",
    "\n",
    "The differences between these become more apparent for more advanced queries later on. For now, we can use these to select samples by name."
   ]
  },
  {
   "cell_type": "code",
   "execution_count": 20,
   "id": "5752c79a-cd7d-433f-8d5d-37db8a202b1f",
   "metadata": {},
   "outputs": [
    {
     "data": {
      "text/plain": [
       "<SamplesQueryIndex[2% (1/59) samples]>"
      ]
     },
     "execution_count": 20,
     "metadata": {},
     "output_type": "execute_result"
    }
   ],
   "source": [
    "q = db.samples_query().isa('SH12-001')\n",
    "q"
   ]
  },
  {
   "cell_type": "code",
   "execution_count": 21,
   "id": "449065f1-be1a-455d-bb28-6a956b1b557a",
   "metadata": {},
   "outputs": [
    {
     "data": {
      "text/plain": [
       "<SamplesQueryIndex[3% (2/59) samples]>"
      ]
     },
     "execution_count": 21,
     "metadata": {},
     "output_type": "execute_result"
    }
   ],
   "source": [
    "q = db.samples_query().isin(['SH12-001', 'SH13-001'])\n",
    "q"
   ]
  },
  {
   "cell_type": "markdown",
   "id": "a2c1435d-a4a2-41a6-b875-f9b80c117926",
   "metadata": {},
   "source": [
    "## Searching within a tree\n",
    "\n",
    "Queries are not limited to what mutations a sample has or by sample name. We can also use `isin()` to select samples that match criteria related to a phylogenetic tree.\n",
    "\n",
    "To do this, we must specify that our query has a tree attached to it. The example data for this tutorial does have such a tree (though it can be built on-the-fly if needed using `build_tree()`)."
   ]
  },
  {
   "cell_type": "code",
   "execution_count": 22,
   "id": "e533f99c-c6f9-40aa-b855-998b89f963fd",
   "metadata": {},
   "outputs": [
    {
     "data": {
      "text/plain": [
       "<TreeSamplesQuery[100% (59/59) samples]>"
      ]
     },
     "execution_count": 22,
     "metadata": {},
     "output_type": "execute_result"
    }
   ],
   "source": [
    "t = db.samples_query(universe='mutations', reference_name='S_HeidelbergSL476')\n",
    "t"
   ]
  },
  {
   "cell_type": "markdown",
   "id": "96ce9b8a-3545-4de4-b915-30078f0cd918",
   "metadata": {},
   "source": [
    "Here, the type of query is a `TreeSampleQuery` which means it has a tree attached to it. You can access the underlying tree with the `tree` property (as an ete3 Tree object)."
   ]
  },
  {
   "cell_type": "code",
   "execution_count": 23,
   "id": "3b5a8097-4ad6-4b36-8f01-07af1db6168b",
   "metadata": {},
   "outputs": [
    {
     "data": {
      "text/plain": [
       "Tree node '' (0x7f23fec5661)"
      ]
     },
     "execution_count": 23,
     "metadata": {},
     "output_type": "execute_result"
    }
   ],
   "source": [
    "t.tree"
   ]
  },
  {
   "cell_type": "markdown",
   "id": "c042fbb2-9c75-44c3-a49d-42f207c74e0e",
   "metadata": {},
   "source": [
    "You can quickly visualize the tree in-line by using the `tree_styler()` method:"
   ]
  },
  {
   "cell_type": "code",
   "execution_count": 39,
   "id": "31a58a80-c7b2-4ee3-9874-031dc3316d3a",
   "metadata": {},
   "outputs": [
    {
     "data": {
      "image/png": "[encoded data removed]",
      "text/plain": [
       "<IPython.core.display.Image object>"
      ]
     },
     "execution_count": 39,
     "metadata": {},
     "output_type": "execute_result"
    }
   ],
   "source": [
    "t.tree_styler().render(w=300)"
   ]
  },
  {
   "cell_type": "markdown",
   "id": "99e50d53-2862-4f90-b8f5-d1c71d830843",
   "metadata": {},
   "source": [
    "Now that we have a phylogenetic tree, we can search using this tree with `isin()`. To do this, let's search for samples within some distance from `SH14-001`."
   ]
  },
  {
   "cell_type": "code",
   "execution_count": 56,
   "id": "985f1edb-e773-4ab6-b1b4-59c2c2a90973",
   "metadata": {},
   "outputs": [
    {
     "data": {
      "text/plain": [
       "<TreeSamplesQuery[8% (5/59) samples]>"
      ]
     },
     "execution_count": 56,
     "metadata": {},
     "output_type": "execute_result"
    }
   ],
   "source": [
    "tdist = t.isin('SH14-001', kind='distance', distance=3e-7, units='substitutions/site')\n",
    "tdist"
   ]
  },
  {
   "cell_type": "markdown",
   "id": "9454961c-560c-4af5-9c50-88a7eeb2fa2d",
   "metadata": {},
   "source": [
    "This selects a subset of samples within the above distance (given in `'substitutions/site'`, you can also use `units='substitutions'`).\n",
    "\n",
    "It can be hard to see what is going on, so we can combine our query with the tree visualization using the `highlight()` method to highlight the selected samples in the tree.\n",
    "\n",
    "*Note: I still have to confirm this, but I suspect some samples (e.g., `SH14-014`) are not selected even though it looks like it should be is due to the way the tree is drawn by ete3.*"
   ]
  },
  {
   "cell_type": "code",
   "execution_count": 57,
   "id": "2b8ed3ed-9d16-4d5e-89fa-6a58e2f15f16",
   "metadata": {},
   "outputs": [
    {
     "data": {
      "image/png": "[encoded data removed]",
      "text/plain": [
       "<IPython.core.display.Image object>"
      ]
     },
     "execution_count": 57,
     "metadata": {},
     "output_type": "execute_result"
    }
   ],
   "source": [
    "t.tree_styler().highlight(tdist).render(w=300)"
   ]
  },
  {
   "cell_type": "markdown",
   "id": "41076d4d-1069-46a2-b9f3-17511466260d",
   "metadata": {},
   "source": [
    "Another type of query instead of distance is `mrca` which selects samples that all share a particular most recent common ancestor."
   ]
  },
  {
   "cell_type": "code",
   "execution_count": 58,
   "id": "23bb9f39-735f-47fa-b511-2732eb844555",
   "metadata": {},
   "outputs": [
    {
     "data": {
      "image/png": "[encoded data removed]",
      "text/plain": [
       "<IPython.core.display.Image object>"
      ]
     },
     "execution_count": 58,
     "metadata": {},
     "output_type": "execute_result"
    }
   ],
   "source": [
    "tmrca = t.isin(['SH14-001', 'SH14-002'], kind='mrca')\n",
    "t.tree_styler().highlight(tmrca).render(w=300)"
   ]
  },
  {
   "cell_type": "markdown",
   "id": "9e6caceb-baca-4f12-84a1-c40ef91fb6e8",
   "metadata": {},
   "source": [
    "## Attach external metadata\n",
    "\n",
    "So far we've been looking at only the genomics data. But often times many details insights can be derived from the associated metadata with the genomic samples. External metadata can be attached and tracked by our queries. This also gives us annother method for selecting samples using pandas selection statements (e.g., `metadata['Column'] == 'value'`).\n",
    "\n",
    "To attach external metadata we first must load it up in Python as a DataFrame (note `head(3)` just means only print the first 3 rows, which avoids printing a very large table for this tutorial)."
   ]
  },
  {
   "cell_type": "code",
   "execution_count": 59,
   "id": "a30f2d3f-76a0-44bb-b7d1-6d16d08ed262",
   "metadata": {},
   "outputs": [
    {
     "data": {
      "text/html": [
       "<div>\n",
       "<style scoped>\n",
       "    .dataframe tbody tr th:only-of-type {\n",
       "        vertical-align: middle;\n",
       "    }\n",
       "\n",
       "    .dataframe tbody tr th {\n",
       "        vertical-align: top;\n",
       "    }\n",
       "\n",
       "    .dataframe thead th {\n",
       "        text-align: right;\n",
       "    }\n",
       "</style>\n",
       "<table border=\"1\" class=\"dataframe\">\n",
       "  <thead>\n",
       "    <tr style=\"text-align: right;\">\n",
       "      <th></th>\n",
       "      <th>Strain</th>\n",
       "      <th>Source</th>\n",
       "      <th>Isolation date</th>\n",
       "      <th>Outbreak number</th>\n",
       "      <th>PFGE pattern</th>\n",
       "      <th>PT</th>\n",
       "      <th>Canadian PFGE pattern</th>\n",
       "    </tr>\n",
       "  </thead>\n",
       "  <tbody>\n",
       "    <tr>\n",
       "      <th>0</th>\n",
       "      <td>SH12-001</td>\n",
       "      <td>Human</td>\n",
       "      <td>05-2012</td>\n",
       "      <td>1</td>\n",
       "      <td>2</td>\n",
       "      <td>19</td>\n",
       "      <td>SHXAI.0001/SHBNI.0001</td>\n",
       "    </tr>\n",
       "    <tr>\n",
       "      <th>1</th>\n",
       "      <td>SH12-002</td>\n",
       "      <td>Human</td>\n",
       "      <td>05-2012</td>\n",
       "      <td>1</td>\n",
       "      <td>2</td>\n",
       "      <td>19</td>\n",
       "      <td>SHXAI.0001/SHBNI.0001</td>\n",
       "    </tr>\n",
       "    <tr>\n",
       "      <th>2</th>\n",
       "      <td>SH12-003</td>\n",
       "      <td>Human</td>\n",
       "      <td>05-2012</td>\n",
       "      <td>1</td>\n",
       "      <td>2</td>\n",
       "      <td>19</td>\n",
       "      <td>SHXAI.0001/SHBNI.0001</td>\n",
       "    </tr>\n",
       "  </tbody>\n",
       "</table>\n",
       "</div>"
      ],
      "text/plain": [
       "     Strain Source Isolation date Outbreak number PFGE pattern  PT  \\\n",
       "0  SH12-001  Human        05-2012               1            2  19   \n",
       "1  SH12-002  Human        05-2012               1            2  19   \n",
       "2  SH12-003  Human        05-2012               1            2  19   \n",
       "\n",
       "   Canadian PFGE pattern  \n",
       "0  SHXAI.0001/SHBNI.0001  \n",
       "1  SHXAI.0001/SHBNI.0001  \n",
       "2  SHXAI.0001/SHBNI.0001  "
      ]
     },
     "execution_count": 59,
     "metadata": {},
     "output_type": "execute_result"
    }
   ],
   "source": [
    "import pandas as pd\n",
    "\n",
    "metadata_df = pd.read_csv('salmonella-project/metadata.tsv', sep='\\t', dtype=str)\n",
    "metadata_df.head(3)"
   ]
  },
  {
   "cell_type": "markdown",
   "id": "30181c03-3541-4abf-8cc1-3410369a7a65",
   "metadata": {},
   "source": [
    "Now we can attach to our query using the `join()` method:"
   ]
  },
  {
   "cell_type": "code",
   "execution_count": 68,
   "id": "e1910c1f-1b53-4976-9832-133864ca6c77",
   "metadata": {},
   "outputs": [
    {
     "data": {
      "text/plain": [
       "<DataFrameSamplesQuery[97% (57/59) samples]>"
      ]
     },
     "execution_count": 68,
     "metadata": {},
     "output_type": "execute_result"
    }
   ],
   "source": [
    "# Setup a new query (you don't have to do this, but this makes sure the results are all as expected in the tutorial)\n",
    "q = db.samples_query().hasa('gi|194447306|ref|NC_011083.1|:4860641:G:A')\n",
    "\n",
    "# Join our query with the given data frame\n",
    "q = q.join(metadata_df, sample_names_column='Strain')\n",
    "q"
   ]
  },
  {
   "cell_type": "markdown",
   "id": "79dc9bfd-facb-43ca-bd9f-33a456395571",
   "metadata": {},
   "source": [
    "To join we had to define a column containing the sample names. We now get back a query of type `DataFrameSamplesQuery`."
   ]
  },
  {
   "cell_type": "markdown",
   "id": "909c7750-5866-470d-a40c-5e2e984d6074",
   "metadata": {},
   "source": [
    "## Query external metadata\n",
    "\n",
    "We can continue using this to select samples and when we're done use the `toframe()` method to dump out our selected data as a DataFrame."
   ]
  },
  {
   "cell_type": "code",
   "execution_count": 62,
   "id": "b6cd0b7d-f219-45fe-864c-4540acb38c4f",
   "metadata": {},
   "outputs": [
    {
     "data": {
      "text/html": [
       "<div>\n",
       "<style scoped>\n",
       "    .dataframe tbody tr th:only-of-type {\n",
       "        vertical-align: middle;\n",
       "    }\n",
       "\n",
       "    .dataframe tbody tr th {\n",
       "        vertical-align: top;\n",
       "    }\n",
       "\n",
       "    .dataframe thead th {\n",
       "        text-align: right;\n",
       "    }\n",
       "</style>\n",
       "<table border=\"1\" class=\"dataframe\">\n",
       "  <thead>\n",
       "    <tr style=\"text-align: right;\">\n",
       "      <th></th>\n",
       "      <th>Query</th>\n",
       "      <th>Sample Name</th>\n",
       "      <th>Sample ID</th>\n",
       "      <th>Status</th>\n",
       "      <th>Strain</th>\n",
       "      <th>Source</th>\n",
       "      <th>Isolation date</th>\n",
       "      <th>Outbreak number</th>\n",
       "      <th>PFGE pattern</th>\n",
       "      <th>PT</th>\n",
       "      <th>Canadian PFGE pattern</th>\n",
       "    </tr>\n",
       "  </thead>\n",
       "  <tbody>\n",
       "    <tr>\n",
       "      <th>0</th>\n",
       "      <td>gi|194447306|ref|NC_011083.1|:4860641:G:A AND ...</td>\n",
       "      <td>SH13-001</td>\n",
       "      <td>4</td>\n",
       "      <td>Present</td>\n",
       "      <td>SH13-001</td>\n",
       "      <td>Human</td>\n",
       "      <td>11-2013</td>\n",
       "      <td>2</td>\n",
       "      <td>2</td>\n",
       "      <td>26</td>\n",
       "      <td>SHXAI.0001/SHBNI.0001</td>\n",
       "    </tr>\n",
       "    <tr>\n",
       "      <th>1</th>\n",
       "      <td>gi|194447306|ref|NC_011083.1|:4860641:G:A AND ...</td>\n",
       "      <td>SH13-003</td>\n",
       "      <td>32</td>\n",
       "      <td>Present</td>\n",
       "      <td>SH13-003</td>\n",
       "      <td>Human</td>\n",
       "      <td>11-2013</td>\n",
       "      <td>2</td>\n",
       "      <td>2</td>\n",
       "      <td>26</td>\n",
       "      <td>SHXAI.0001/SHBNI.0001</td>\n",
       "    </tr>\n",
       "    <tr>\n",
       "      <th>2</th>\n",
       "      <td>gi|194447306|ref|NC_011083.1|:4860641:G:A AND ...</td>\n",
       "      <td>SH13-004</td>\n",
       "      <td>25</td>\n",
       "      <td>Present</td>\n",
       "      <td>SH13-004</td>\n",
       "      <td>Human</td>\n",
       "      <td>11-2013</td>\n",
       "      <td>2</td>\n",
       "      <td>2</td>\n",
       "      <td>26</td>\n",
       "      <td>SHXAI.0001/SHBNI.0001</td>\n",
       "    </tr>\n",
       "    <tr>\n",
       "      <th>3</th>\n",
       "      <td>gi|194447306|ref|NC_011083.1|:4860641:G:A AND ...</td>\n",
       "      <td>SH13-005</td>\n",
       "      <td>47</td>\n",
       "      <td>Present</td>\n",
       "      <td>SH13-005</td>\n",
       "      <td>Human</td>\n",
       "      <td>11-2013</td>\n",
       "      <td>2</td>\n",
       "      <td>2</td>\n",
       "      <td>26</td>\n",
       "      <td>SHXAI.0001/SHBNI.0001</td>\n",
       "    </tr>\n",
       "    <tr>\n",
       "      <th>4</th>\n",
       "      <td>gi|194447306|ref|NC_011083.1|:4860641:G:A AND ...</td>\n",
       "      <td>SH13-006</td>\n",
       "      <td>54</td>\n",
       "      <td>Present</td>\n",
       "      <td>SH13-006</td>\n",
       "      <td>Human</td>\n",
       "      <td>11-2013</td>\n",
       "      <td>2</td>\n",
       "      <td>2</td>\n",
       "      <td>26</td>\n",
       "      <td>SHXAI.0001/SHBNI.0001</td>\n",
       "    </tr>\n",
       "    <tr>\n",
       "      <th>5</th>\n",
       "      <td>gi|194447306|ref|NC_011083.1|:4860641:G:A AND ...</td>\n",
       "      <td>SH13-007</td>\n",
       "      <td>16</td>\n",
       "      <td>Present</td>\n",
       "      <td>SH13-007</td>\n",
       "      <td>Human</td>\n",
       "      <td>11-2013</td>\n",
       "      <td>2</td>\n",
       "      <td>2</td>\n",
       "      <td>26</td>\n",
       "      <td>SHXAI.0001/SHBNI.0001</td>\n",
       "    </tr>\n",
       "  </tbody>\n",
       "</table>\n",
       "</div>"
      ],
      "text/plain": [
       "                                               Query Sample Name  Sample ID  \\\n",
       "0  gi|194447306|ref|NC_011083.1|:4860641:G:A AND ...    SH13-001          4   \n",
       "1  gi|194447306|ref|NC_011083.1|:4860641:G:A AND ...    SH13-003         32   \n",
       "2  gi|194447306|ref|NC_011083.1|:4860641:G:A AND ...    SH13-004         25   \n",
       "3  gi|194447306|ref|NC_011083.1|:4860641:G:A AND ...    SH13-005         47   \n",
       "4  gi|194447306|ref|NC_011083.1|:4860641:G:A AND ...    SH13-006         54   \n",
       "5  gi|194447306|ref|NC_011083.1|:4860641:G:A AND ...    SH13-007         16   \n",
       "\n",
       "    Status    Strain Source Isolation date Outbreak number PFGE pattern  PT  \\\n",
       "0  Present  SH13-001  Human        11-2013               2            2  26   \n",
       "1  Present  SH13-003  Human        11-2013               2            2  26   \n",
       "2  Present  SH13-004  Human        11-2013               2            2  26   \n",
       "3  Present  SH13-005  Human        11-2013               2            2  26   \n",
       "4  Present  SH13-006  Human        11-2013               2            2  26   \n",
       "5  Present  SH13-007  Human        11-2013               2            2  26   \n",
       "\n",
       "   Canadian PFGE pattern  \n",
       "0  SHXAI.0001/SHBNI.0001  \n",
       "1  SHXAI.0001/SHBNI.0001  \n",
       "2  SHXAI.0001/SHBNI.0001  \n",
       "3  SHXAI.0001/SHBNI.0001  \n",
       "4  SHXAI.0001/SHBNI.0001  \n",
       "5  SHXAI.0001/SHBNI.0001  "
      ]
     },
     "execution_count": 62,
     "metadata": {},
     "output_type": "execute_result"
    }
   ],
   "source": [
    "q.hasa('gi|194447306|ref|NC_011083.1|:70519:T:TG').toframe()"
   ]
  },
  {
   "cell_type": "markdown",
   "id": "f490a58b-ade8-4b1a-91ea-14d904dc6885",
   "metadata": {},
   "source": [
    "Running `toframe()` will add some additional columns to the front of the external data frame defining the genomics query information."
   ]
  },
  {
   "cell_type": "markdown",
   "id": "416004c7-b77e-4fa9-97a6-fefb3c88a1e6",
   "metadata": {},
   "source": [
    "## Selecting by column values using `isa()`\n",
    "\n",
    "We can now use the `isa()` method to select samples by values in a particular metadata column. For example, to select all samples with a **Source** of `Food` we can use:"
   ]
  },
  {
   "cell_type": "code",
   "execution_count": 69,
   "id": "2781766f-4bb3-4ad9-90a5-55d0ed2388bd",
   "metadata": {},
   "outputs": [
    {
     "data": {
      "text/html": [
       "<div>\n",
       "<style scoped>\n",
       "    .dataframe tbody tr th:only-of-type {\n",
       "        vertical-align: middle;\n",
       "    }\n",
       "\n",
       "    .dataframe tbody tr th {\n",
       "        vertical-align: top;\n",
       "    }\n",
       "\n",
       "    .dataframe thead th {\n",
       "        text-align: right;\n",
       "    }\n",
       "</style>\n",
       "<table border=\"1\" class=\"dataframe\">\n",
       "  <thead>\n",
       "    <tr style=\"text-align: right;\">\n",
       "      <th></th>\n",
       "      <th>Query</th>\n",
       "      <th>Sample Name</th>\n",
       "      <th>Sample ID</th>\n",
       "      <th>Status</th>\n",
       "      <th>Strain</th>\n",
       "      <th>Source</th>\n",
       "      <th>Isolation date</th>\n",
       "      <th>Outbreak number</th>\n",
       "      <th>PFGE pattern</th>\n",
       "      <th>PT</th>\n",
       "      <th>Canadian PFGE pattern</th>\n",
       "    </tr>\n",
       "  </thead>\n",
       "  <tbody>\n",
       "    <tr>\n",
       "      <th>0</th>\n",
       "      <td>gi|194447306|ref|NC_011083.1|:4860641:G:A AND ...</td>\n",
       "      <td>SH12-009</td>\n",
       "      <td>50</td>\n",
       "      <td>Present</td>\n",
       "      <td>SH12-009</td>\n",
       "      <td>Food</td>\n",
       "      <td>05-2012</td>\n",
       "      <td>1</td>\n",
       "      <td>2</td>\n",
       "      <td>19</td>\n",
       "      <td>SHXAI.0001/SHBNI.0001</td>\n",
       "    </tr>\n",
       "    <tr>\n",
       "      <th>1</th>\n",
       "      <td>gi|194447306|ref|NC_011083.1|:4860641:G:A AND ...</td>\n",
       "      <td>SH12-010</td>\n",
       "      <td>41</td>\n",
       "      <td>Present</td>\n",
       "      <td>SH12-010</td>\n",
       "      <td>Food</td>\n",
       "      <td>05-2012</td>\n",
       "      <td>1</td>\n",
       "      <td>2</td>\n",
       "      <td>19</td>\n",
       "      <td>SHXAI.0001/SHBNI.0001</td>\n",
       "    </tr>\n",
       "    <tr>\n",
       "      <th>2</th>\n",
       "      <td>gi|194447306|ref|NC_011083.1|:4860641:G:A AND ...</td>\n",
       "      <td>SH14-013</td>\n",
       "      <td>42</td>\n",
       "      <td>Present</td>\n",
       "      <td>SH14-013</td>\n",
       "      <td>Food</td>\n",
       "      <td>08-2014</td>\n",
       "      <td>3</td>\n",
       "      <td>2</td>\n",
       "      <td>19</td>\n",
       "      <td>SHXAI.0001/SHBNI.0001</td>\n",
       "    </tr>\n",
       "  </tbody>\n",
       "</table>\n",
       "</div>"
      ],
      "text/plain": [
       "                                               Query Sample Name  Sample ID  \\\n",
       "0  gi|194447306|ref|NC_011083.1|:4860641:G:A AND ...    SH12-009         50   \n",
       "1  gi|194447306|ref|NC_011083.1|:4860641:G:A AND ...    SH12-010         41   \n",
       "2  gi|194447306|ref|NC_011083.1|:4860641:G:A AND ...    SH14-013         42   \n",
       "\n",
       "    Status    Strain Source Isolation date Outbreak number PFGE pattern  PT  \\\n",
       "0  Present  SH12-009   Food        05-2012               1            2  19   \n",
       "1  Present  SH12-010   Food        05-2012               1            2  19   \n",
       "2  Present  SH14-013   Food        08-2014               3            2  19   \n",
       "\n",
       "   Canadian PFGE pattern  \n",
       "0  SHXAI.0001/SHBNI.0001  \n",
       "1  SHXAI.0001/SHBNI.0001  \n",
       "2  SHXAI.0001/SHBNI.0001  "
      ]
     },
     "execution_count": 69,
     "metadata": {},
     "output_type": "execute_result"
    }
   ],
   "source": [
    "q.isa('Food', isa_column='Source', kind='dataframe').toframe().head(3)"
   ]
  },
  {
   "cell_type": "markdown",
   "id": "65985873-7fc3-48b1-98ef-9485b1ae9f88",
   "metadata": {},
   "source": [
    "To make it easier to write these query expressions, you can set a default column for `isa()` queries when joining to a dataframe:"
   ]
  },
  {
   "cell_type": "code",
   "execution_count": 74,
   "id": "af2ee367-4ced-4481-b660-3b2e1a4eb8e3",
   "metadata": {},
   "outputs": [
    {
     "data": {
      "text/html": [
       "<div>\n",
       "<style scoped>\n",
       "    .dataframe tbody tr th:only-of-type {\n",
       "        vertical-align: middle;\n",
       "    }\n",
       "\n",
       "    .dataframe tbody tr th {\n",
       "        vertical-align: top;\n",
       "    }\n",
       "\n",
       "    .dataframe thead th {\n",
       "        text-align: right;\n",
       "    }\n",
       "</style>\n",
       "<table border=\"1\" class=\"dataframe\">\n",
       "  <thead>\n",
       "    <tr style=\"text-align: right;\">\n",
       "      <th></th>\n",
       "      <th>Query</th>\n",
       "      <th>Sample Name</th>\n",
       "      <th>Sample ID</th>\n",
       "      <th>Status</th>\n",
       "      <th>Strain</th>\n",
       "      <th>Source</th>\n",
       "      <th>Isolation date</th>\n",
       "      <th>Outbreak number</th>\n",
       "      <th>PFGE pattern</th>\n",
       "      <th>PT</th>\n",
       "      <th>Canadian PFGE pattern</th>\n",
       "    </tr>\n",
       "  </thead>\n",
       "  <tbody>\n",
       "    <tr>\n",
       "      <th>0</th>\n",
       "      <td>dataframe(names_col=[Strain]) AND isa('Source'...</td>\n",
       "      <td>SH12-009</td>\n",
       "      <td>50</td>\n",
       "      <td>Present</td>\n",
       "      <td>SH12-009</td>\n",
       "      <td>Food</td>\n",
       "      <td>05-2012</td>\n",
       "      <td>1</td>\n",
       "      <td>2</td>\n",
       "      <td>19</td>\n",
       "      <td>SHXAI.0001/SHBNI.0001</td>\n",
       "    </tr>\n",
       "    <tr>\n",
       "      <th>1</th>\n",
       "      <td>dataframe(names_col=[Strain]) AND isa('Source'...</td>\n",
       "      <td>SH12-010</td>\n",
       "      <td>41</td>\n",
       "      <td>Present</td>\n",
       "      <td>SH12-010</td>\n",
       "      <td>Food</td>\n",
       "      <td>05-2012</td>\n",
       "      <td>1</td>\n",
       "      <td>2</td>\n",
       "      <td>19</td>\n",
       "      <td>SHXAI.0001/SHBNI.0001</td>\n",
       "    </tr>\n",
       "    <tr>\n",
       "      <th>2</th>\n",
       "      <td>dataframe(names_col=[Strain]) AND isa('Source'...</td>\n",
       "      <td>SH14-013</td>\n",
       "      <td>42</td>\n",
       "      <td>Present</td>\n",
       "      <td>SH14-013</td>\n",
       "      <td>Food</td>\n",
       "      <td>08-2014</td>\n",
       "      <td>3</td>\n",
       "      <td>2</td>\n",
       "      <td>19</td>\n",
       "      <td>SHXAI.0001/SHBNI.0001</td>\n",
       "    </tr>\n",
       "  </tbody>\n",
       "</table>\n",
       "</div>"
      ],
      "text/plain": [
       "                                               Query Sample Name  Sample ID  \\\n",
       "0  dataframe(names_col=[Strain]) AND isa('Source'...    SH12-009         50   \n",
       "1  dataframe(names_col=[Strain]) AND isa('Source'...    SH12-010         41   \n",
       "2  dataframe(names_col=[Strain]) AND isa('Source'...    SH14-013         42   \n",
       "\n",
       "    Status    Strain Source Isolation date Outbreak number PFGE pattern  PT  \\\n",
       "0  Present  SH12-009   Food        05-2012               1            2  19   \n",
       "1  Present  SH12-010   Food        05-2012               1            2  19   \n",
       "2  Present  SH14-013   Food        08-2014               3            2  19   \n",
       "\n",
       "   Canadian PFGE pattern  \n",
       "0  SHXAI.0001/SHBNI.0001  \n",
       "1  SHXAI.0001/SHBNI.0001  \n",
       "2  SHXAI.0001/SHBNI.0001  "
      ]
     },
     "execution_count": 74,
     "metadata": {},
     "output_type": "execute_result"
    }
   ],
   "source": [
    "q = db.samples_query().join(metadata_df, sample_names_column='Strain',\n",
    "                            default_isa_kind='dataframe', default_isa_column='Source')\n",
    "q.isa('Food').toframe().head(3)"
   ]
  },
  {
   "cell_type": "markdown",
   "id": "47ca3495-2faa-4004-bba2-60db5fd8520e",
   "metadata": {},
   "source": [
    "You can also pass `regex=True` to `isa()` to query by a regex."
   ]
  },
  {
   "cell_type": "markdown",
   "id": "4a898e8f-f7ce-43fa-97d5-e97fcda1719e",
   "metadata": {},
   "source": [
    "## Selecting by pandas selection expressions\n",
    "\n",
    "You can also select samples using the more powerful pandas selection expressions. You use the `isin()` method for this.\n",
    "\n",
    "For example, an alternative way to select samples where **Source** is `Food` is:"
   ]
  },
  {
   "cell_type": "code",
   "execution_count": 75,
   "id": "79f33015-2c73-4d65-b452-397d5b960a83",
   "metadata": {},
   "outputs": [
    {
     "data": {
      "text/html": [
       "<div>\n",
       "<style scoped>\n",
       "    .dataframe tbody tr th:only-of-type {\n",
       "        vertical-align: middle;\n",
       "    }\n",
       "\n",
       "    .dataframe tbody tr th {\n",
       "        vertical-align: top;\n",
       "    }\n",
       "\n",
       "    .dataframe thead th {\n",
       "        text-align: right;\n",
       "    }\n",
       "</style>\n",
       "<table border=\"1\" class=\"dataframe\">\n",
       "  <thead>\n",
       "    <tr style=\"text-align: right;\">\n",
       "      <th></th>\n",
       "      <th>Query</th>\n",
       "      <th>Sample Name</th>\n",
       "      <th>Sample ID</th>\n",
       "      <th>Status</th>\n",
       "      <th>Strain</th>\n",
       "      <th>Source</th>\n",
       "      <th>Isolation date</th>\n",
       "      <th>Outbreak number</th>\n",
       "      <th>PFGE pattern</th>\n",
       "      <th>PT</th>\n",
       "      <th>Canadian PFGE pattern</th>\n",
       "    </tr>\n",
       "  </thead>\n",
       "  <tbody>\n",
       "    <tr>\n",
       "      <th>0</th>\n",
       "      <td>dataframe(names_col=[Strain]) AND isin(subset ...</td>\n",
       "      <td>SH12-009</td>\n",
       "      <td>50</td>\n",
       "      <td>Present</td>\n",
       "      <td>SH12-009</td>\n",
       "      <td>Food</td>\n",
       "      <td>05-2012</td>\n",
       "      <td>1</td>\n",
       "      <td>2</td>\n",
       "      <td>19</td>\n",
       "      <td>SHXAI.0001/SHBNI.0001</td>\n",
       "    </tr>\n",
       "    <tr>\n",
       "      <th>1</th>\n",
       "      <td>dataframe(names_col=[Strain]) AND isin(subset ...</td>\n",
       "      <td>SH12-010</td>\n",
       "      <td>41</td>\n",
       "      <td>Present</td>\n",
       "      <td>SH12-010</td>\n",
       "      <td>Food</td>\n",
       "      <td>05-2012</td>\n",
       "      <td>1</td>\n",
       "      <td>2</td>\n",
       "      <td>19</td>\n",
       "      <td>SHXAI.0001/SHBNI.0001</td>\n",
       "    </tr>\n",
       "    <tr>\n",
       "      <th>2</th>\n",
       "      <td>dataframe(names_col=[Strain]) AND isin(subset ...</td>\n",
       "      <td>SH14-013</td>\n",
       "      <td>42</td>\n",
       "      <td>Present</td>\n",
       "      <td>SH14-013</td>\n",
       "      <td>Food</td>\n",
       "      <td>08-2014</td>\n",
       "      <td>3</td>\n",
       "      <td>2</td>\n",
       "      <td>19</td>\n",
       "      <td>SHXAI.0001/SHBNI.0001</td>\n",
       "    </tr>\n",
       "  </tbody>\n",
       "</table>\n",
       "</div>"
      ],
      "text/plain": [
       "                                               Query Sample Name  Sample ID  \\\n",
       "0  dataframe(names_col=[Strain]) AND isin(subset ...    SH12-009         50   \n",
       "1  dataframe(names_col=[Strain]) AND isin(subset ...    SH12-010         41   \n",
       "2  dataframe(names_col=[Strain]) AND isin(subset ...    SH14-013         42   \n",
       "\n",
       "    Status    Strain Source Isolation date Outbreak number PFGE pattern  PT  \\\n",
       "0  Present  SH12-009   Food        05-2012               1            2  19   \n",
       "1  Present  SH12-010   Food        05-2012               1            2  19   \n",
       "2  Present  SH14-013   Food        08-2014               3            2  19   \n",
       "\n",
       "   Canadian PFGE pattern  \n",
       "0  SHXAI.0001/SHBNI.0001  \n",
       "1  SHXAI.0001/SHBNI.0001  \n",
       "2  SHXAI.0001/SHBNI.0001  "
      ]
     },
     "execution_count": 75,
     "metadata": {},
     "output_type": "execute_result"
    }
   ],
   "source": [
    "q.isin(metadata_df['Source'] == 'Food', kind='dataframe').toframe().head(3)"
   ]
  },
  {
   "cell_type": "markdown",
   "id": "79d441fc-9e35-4c04-b62a-fc9202c1981a",
   "metadata": {},
   "source": [
    "# Putting it all together\n",
    "\n",
    "So far we've seen connecting to an index (project), querying by mutations and by relationships in a tree, as well as attaching external metadata. We can put this all together and do some basic visualiations of our selections on the tree (using the `ete3` toolkit)."
   ]
  },
  {
   "cell_type": "markdown",
   "id": "cdea5a2f-8ee9-4b0c-834d-1154f35f4b84",
   "metadata": {},
   "source": [
    "## 1. Highlight everything in Outbreak 1 with a particular mutation"
   ]
  },
  {
   "cell_type": "code",
   "execution_count": 76,
   "id": "808d4a81-ffcf-4ab4-950e-bf1be67eefe6",
   "metadata": {},
   "outputs": [
    {
     "data": {
      "text/plain": [
       "<TreeSamplesQuery[100% (59/59) samples]>"
      ]
     },
     "execution_count": 76,
     "metadata": {},
     "output_type": "execute_result"
    }
   ],
   "source": [
    "# Load up a tree query object and attach a Data Frame\n",
    "q = db.samples_query(universe='mutations', reference_name='S_HeidelbergSL476')\\\n",
    "    .join(metadata_df, sample_names_column='Strain')\n",
    "q"
   ]
  },
  {
   "cell_type": "code",
   "execution_count": 78,
   "id": "840e2293-0ee8-47f1-88d2-f43268cf786b",
   "metadata": {},
   "outputs": [
    {
     "ename": "Exception",
     "evalue": "Invalid kind=dataframe. Must be one of ['names']",
     "output_type": "error",
     "traceback": [
      "\u001b[0;31m---------------------------------------------------------------------------\u001b[0m",
      "\u001b[0;31mException\u001b[0m                                 Traceback (most recent call last)",
      "\u001b[0;32m<ipython-input-78-d34c165d1720>\u001b[0m in \u001b[0;36m<module>\u001b[0;34m\u001b[0m\n\u001b[1;32m      1\u001b[0m \u001b[0;31m# Select samples in Outbreak 1 and show all possible mutations\u001b[0m\u001b[0;34m\u001b[0m\u001b[0;34m\u001b[0m\u001b[0;34m\u001b[0m\u001b[0m\n\u001b[0;32m----> 2\u001b[0;31m \u001b[0mq\u001b[0m\u001b[0;34m.\u001b[0m\u001b[0misa\u001b[0m\u001b[0;34m(\u001b[0m\u001b[0;34m'1'\u001b[0m\u001b[0;34m,\u001b[0m \u001b[0misa_column\u001b[0m\u001b[0;34m=\u001b[0m\u001b[0;34m'Outbreak number'\u001b[0m\u001b[0;34m,\u001b[0m \u001b[0mkind\u001b[0m\u001b[0;34m=\u001b[0m\u001b[0;34m'dataframe'\u001b[0m\u001b[0;34m)\u001b[0m\u001b[0;34m\u001b[0m\u001b[0;34m\u001b[0m\u001b[0m\n\u001b[0m",
      "\u001b[0;32m~/miniconda3/envs/gdi/lib/python3.8/site-packages/genomics_data_index/api/query/impl/WrappedSamplesQuery.py\u001b[0m in \u001b[0;36misa\u001b[0;34m(self, data, kind, **kwargs)\u001b[0m\n\u001b[1;32m    114\u001b[0m             \u001b[0;32mreturn\u001b[0m \u001b[0mself\u001b[0m\u001b[0;34m.\u001b[0m\u001b[0m_wrap_create\u001b[0m\u001b[0;34m(\u001b[0m\u001b[0mself\u001b[0m\u001b[0;34m.\u001b[0m\u001b[0m_wrapped_query\u001b[0m\u001b[0;34m.\u001b[0m\u001b[0misa\u001b[0m\u001b[0;34m(\u001b[0m\u001b[0mdata\u001b[0m\u001b[0;34m=\u001b[0m\u001b[0mdata\u001b[0m\u001b[0;34m,\u001b[0m \u001b[0mkind\u001b[0m\u001b[0;34m=\u001b[0m\u001b[0mkind\u001b[0m\u001b[0;34m,\u001b[0m \u001b[0;34m**\u001b[0m\u001b[0mkwargs\u001b[0m\u001b[0;34m)\u001b[0m\u001b[0;34m)\u001b[0m\u001b[0;34m\u001b[0m\u001b[0;34m\u001b[0m\u001b[0m\n\u001b[1;32m    115\u001b[0m         \u001b[0;32melse\u001b[0m\u001b[0;34m:\u001b[0m\u001b[0;34m\u001b[0m\u001b[0;34m\u001b[0m\u001b[0m\n\u001b[0;32m--> 116\u001b[0;31m             \u001b[0;32mreturn\u001b[0m \u001b[0mself\u001b[0m\u001b[0;34m.\u001b[0m\u001b[0m_isa_internal\u001b[0m\u001b[0;34m(\u001b[0m\u001b[0mdata\u001b[0m\u001b[0;34m=\u001b[0m\u001b[0mdata\u001b[0m\u001b[0;34m,\u001b[0m \u001b[0mkind\u001b[0m\u001b[0;34m=\u001b[0m\u001b[0mkind\u001b[0m\u001b[0;34m,\u001b[0m \u001b[0;34m**\u001b[0m\u001b[0mkwargs\u001b[0m\u001b[0;34m)\u001b[0m\u001b[0;34m\u001b[0m\u001b[0;34m\u001b[0m\u001b[0m\n\u001b[0m\u001b[1;32m    117\u001b[0m \u001b[0;34m\u001b[0m\u001b[0m\n\u001b[1;32m    118\u001b[0m     \u001b[0;32mdef\u001b[0m \u001b[0m__and__\u001b[0m\u001b[0;34m(\u001b[0m\u001b[0mself\u001b[0m\u001b[0;34m,\u001b[0m \u001b[0mother\u001b[0m\u001b[0;34m)\u001b[0m\u001b[0;34m:\u001b[0m\u001b[0;34m\u001b[0m\u001b[0;34m\u001b[0m\u001b[0m\n",
      "\u001b[0;32m~/miniconda3/envs/gdi/lib/python3.8/site-packages/genomics_data_index/api/query/impl/WrappedSamplesQuery.py\u001b[0m in \u001b[0;36m_isa_internal\u001b[0;34m(self, data, kind, **kwargs)\u001b[0m\n\u001b[1;32m     96\u001b[0m \u001b[0;34m\u001b[0m\u001b[0m\n\u001b[1;32m     97\u001b[0m     \u001b[0;32mdef\u001b[0m \u001b[0m_isa_internal\u001b[0m\u001b[0;34m(\u001b[0m\u001b[0mself\u001b[0m\u001b[0;34m,\u001b[0m \u001b[0mdata\u001b[0m\u001b[0;34m:\u001b[0m \u001b[0mUnion\u001b[0m\u001b[0;34m[\u001b[0m\u001b[0mstr\u001b[0m\u001b[0;34m,\u001b[0m \u001b[0mList\u001b[0m\u001b[0;34m[\u001b[0m\u001b[0mstr\u001b[0m\u001b[0;34m]\u001b[0m\u001b[0;34m]\u001b[0m\u001b[0;34m,\u001b[0m \u001b[0mkind\u001b[0m\u001b[0;34m:\u001b[0m \u001b[0mstr\u001b[0m\u001b[0;34m,\u001b[0m \u001b[0;34m**\u001b[0m\u001b[0mkwargs\u001b[0m\u001b[0;34m)\u001b[0m \u001b[0;34m->\u001b[0m \u001b[0mSamplesQuery\u001b[0m\u001b[0;34m:\u001b[0m\u001b[0;34m\u001b[0m\u001b[0;34m\u001b[0m\u001b[0m\n\u001b[0;32m---> 98\u001b[0;31m         \u001b[0;32mraise\u001b[0m \u001b[0mException\u001b[0m\u001b[0;34m(\u001b[0m\u001b[0;34mf'Invalid kind={kind}. Must be one of {self._isa_kinds()}'\u001b[0m\u001b[0;34m)\u001b[0m\u001b[0;34m\u001b[0m\u001b[0;34m\u001b[0m\u001b[0m\n\u001b[0m\u001b[1;32m     99\u001b[0m \u001b[0;34m\u001b[0m\u001b[0m\n\u001b[1;32m    100\u001b[0m     \u001b[0;32mdef\u001b[0m \u001b[0m_isin_kinds\u001b[0m\u001b[0;34m(\u001b[0m\u001b[0mself\u001b[0m\u001b[0;34m)\u001b[0m \u001b[0;34m->\u001b[0m \u001b[0mList\u001b[0m\u001b[0;34m[\u001b[0m\u001b[0mstr\u001b[0m\u001b[0;34m]\u001b[0m\u001b[0;34m:\u001b[0m\u001b[0;34m\u001b[0m\u001b[0;34m\u001b[0m\u001b[0m\n",
      "\u001b[0;31mException\u001b[0m: Invalid kind=dataframe. Must be one of ['names']"
     ]
    }
   ],
   "source": [
    "# Select samples in Outbreak 1 and show all possible mutations\n",
    "q.isa('1', isa_column='Outbreak number', kind='dataframe')"
   ]
  },
  {
   "cell_type": "code",
   "execution_count": 77,
   "id": "da47b564-e767-4a70-84b3-a1202ef9141f",
   "metadata": {},
   "outputs": [],
   "source": [
    "# Use `highlight()` to highlight Outbreak 1 and chain with another `highlight()` to highlight '' mutation in a different color\n",
    "ts = q.tree_styler()\\\n",
    "        .highlight()\\\n",
    "        .highlight()\n",
    "ts.render()"
   ]
  },
  {
   "cell_type": "code",
   "execution_count": null,
   "id": "b8558edc-1bac-43ec-a5dc-a0cfc196eb72",
   "metadata": {},
   "outputs": [],
   "source": [
    "# Save this to a PDF file\n",
    "ts.render('output1.pdf')"
   ]
  }
 ],
 "metadata": {
  "kernelspec": {
   "display_name": "Python 3",
   "language": "python",
   "name": "python3"
  },
  "language_info": {
   "codemirror_mode": {
    "name": "ipython",
    "version": 3
   },
   "file_extension": ".py",
   "mimetype": "text/x-python",
   "name": "python",
   "nbconvert_exporter": "python",
   "pygments_lexer": "ipython3",
   "version": "3.8.8"
  }
 },
 "nbformat": 4,
 "nbformat_minor": 5
}
